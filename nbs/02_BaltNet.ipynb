{
 "cells": [
  {
   "cell_type": "code",
   "execution_count": 1,
   "metadata": {},
   "outputs": [],
   "source": [
    "#| default_exp BaltNet\n",
    "#| default_cls_lvl 3"
   ]
  },
  {
   "cell_type": "code",
   "execution_count": 2,
   "metadata": {},
   "outputs": [],
   "source": [
    "#| export\n",
    "\n",
    "import torch\n",
    "import torch.nn as nn\n",
    "import lightning as L\n",
    "from lightning.pytorch.callbacks import ModelCheckpoint\n",
    "\n",
    "from torch.utils.data import DataLoader, Dataset\n",
    "from torch.utils.data.dataset import random_split\n",
    "import torch.nn.functional as F\n",
    "import torchmetrics\n",
    "from lightning.pytorch.loggers import CSVLogger\n",
    "\n",
    "import xarray as xr\n",
    "from glob import glob\n",
    "from tqdm import tqdm\n",
    "\n",
    "from BalticRiverPrediction.convLSTM import ConvLSTM\n",
    "from BalticRiverPrediction.sharedUtilities import read_netcdfs, preprocess, plot_loss_and_acc"
   ]
  },
  {
   "cell_type": "code",
   "execution_count": 3,
   "metadata": {},
   "outputs": [],
   "source": [
    "#| export\n",
    "class BaltNet(nn.Module):\n",
    "    def __init__(self, modelPar):\n",
    "        super(BaltNet, self).__init__()\n",
    "\n",
    "        # initialize all attributes\n",
    "        for k, v in modelPar.items():\n",
    "            setattr(self, k, v)\n",
    "\n",
    "        self.linear_dim = self.dimensions[0]*self.dimensions[1]*self.hidden_dim\n",
    "\n",
    "        self.convLSTM = ConvLSTM(\n",
    "                input_dim=self.input_dim,\n",
    "                hidden_dim=self.hidden_dim,\n",
    "                kernel_size=self.kernel_size,\n",
    "                num_layers=self.num_layers,\n",
    "                batch_first=self.batch_first,\n",
    "                bias=self.bias,\n",
    "                return_all_layers=self.return_all_layers\n",
    "        )\n",
    "\n",
    "        self.convLSTM2 = ConvLSTM(\n",
    "                input_dim=self.input_dim,\n",
    "                hidden_dim=self.hidden_dim,\n",
    "                kernel_size=self.kernel_size,\n",
    "                num_layers=1,\n",
    "                batch_first=self.batch_first,\n",
    "                bias=self.bias,\n",
    "                return_all_layers=self.return_all_layers\n",
    "        )\n",
    "\n",
    "        self.fc_layers = torch.nn.Sequential(\n",
    "            torch.nn.Linear(self.linear_dim, 256),\n",
    "            torch.nn.ReLU(),\n",
    "            torch.nn.Linear(256, 1)\n",
    "            )\n",
    "\n",
    "    def forward(self, x):\n",
    "        _, encode_state = self.convLSTM(x)\n",
    "        decoder_out, _ = self.convLSTM2(x[:,-1:,:,:,:], encode_state)\n",
    "        x = decoder_out[0]\n",
    "        x = torch.flatten(x, start_dim=1)\n",
    "        x = self.fc_layers(x).squeeze()\n",
    "        return x\n"
   ]
  },
  {
   "cell_type": "code",
   "execution_count": 4,
   "metadata": {},
   "outputs": [],
   "source": [
    "#| export\n",
    "class BaseLineModel(nn.Module):\n",
    "    def __init__(self, modelPar):\n",
    "        super(BaseLineModel, self).__init__()\n",
    "\n",
    "        # initialize all attributes\n",
    "        for k, v in modelPar.items():\n",
    "            setattr(self, k, v)\n",
    "\n",
    "        self.linear_dim = self.dimensions[0]*self.dimensions[1]*self.hidden_dim*self.input_dim\n",
    "\n",
    "        self.fc_layers = torch.nn.Sequential(\n",
    "            torch.nn.Linear(self.linear_dim, 256),\n",
    "            torch.nn.ReLU(),\n",
    "            torch.nn.Linear(256, 1)\n",
    "            )\n",
    "        \n",
    "    def forward(self, x):\n",
    "        x = torch.flatten(x, start_dim=1)\n",
    "        x = self.fc_layers(x).squeeze()\n",
    "        return x"
   ]
  },
  {
   "cell_type": "code",
   "execution_count": 5,
   "metadata": {},
   "outputs": [],
   "source": [
    "#| export\n",
    "\n",
    "from typing import Any\n",
    "\n",
    "\n",
    "class LighningModel(L.LightningModule):\n",
    "    def __init__(self, model, learning_rate, cosine_t_max):\n",
    "        super().__init__()\n",
    "\n",
    "        self.learning_rate = learning_rate\n",
    "        self.model = model\n",
    "        self.cosine_t_max = cosine_t_max\n",
    "\n",
    "        self.save_hyperparameters(ignore=[\"model\"])\n",
    "\n",
    "        self.train_mse = torchmetrics.MeanSquaredError()\n",
    "        self.val_mse = torchmetrics.MeanSquaredError()\n",
    "        self.test_mse = torchmetrics.MeanSquaredError()\n",
    "\n",
    "    def forward(self, x):\n",
    "        return self.model(x)\n",
    "    \n",
    "    def _shared_step(self, batch, debug=False):\n",
    "        features, true_labels = batch\n",
    "        logits = self.model(features)\n",
    "        loss = F.mse_loss(logits, true_labels)\n",
    "        if debug == True:\n",
    "            print(loss)\n",
    "        return loss, true_labels, logits\n",
    "    \n",
    "    def training_step(self, batch, batch_idx):\n",
    "        loss, true_labels, predicted_labels = self._shared_step(batch, debug=False)\n",
    "        mse = self.train_mse(predicted_labels, true_labels)\n",
    "        metrics = {\"train_mse\":mse, \"train_loss\":loss}\n",
    "        self.log_dict(metrics, on_step=True, on_epoch=True, prog_bar=True,logger=True, sync_dist=True)\n",
    "        return loss\n",
    "    \n",
    "    def validation_step(self, batch, batch_idx):\n",
    "        loss, true_labes, predicted_labels = self._shared_step(batch)\n",
    "        self.log(\"val_loss\", loss, sync_dist=True)\n",
    "        self.val_mse(predicted_labels, true_labes)\n",
    "        self.log(\n",
    "            \"val_mse\", self.val_mse, prog_bar=True, sync_dist=True\n",
    "        )\n",
    "    \n",
    "    def test_step(self, batch, _):\n",
    "        loss, true_labels, predicted_labels = self._shared_step(batch)\n",
    "        self.test_mse(predicted_labels, true_labels)\n",
    "        self.log(\"test_loss\", loss, rank_zero_only=True)\n",
    "        self.log(\"test_mse\", self.test_mse, sync_dist=True)\n",
    "        return loss\n",
    "    \n",
    "    def predict_step(self, batch: Any, batch_idx: int, dataloader_idx: int = 0) -> Any:\n",
    "        _, _, predicted_labels = self._shared_step(batch)\n",
    "        return predicted_labels\n",
    "\n",
    "    \n",
    "    def configure_optimizers(self):\n",
    "        opt = torch.optim.Adam(self.parameters(), lr=self.learning_rate)\n",
    "        sch = torch.optim.lr_scheduler.CosineAnnealingLR(opt, T_max=self.cosine_t_max)\n",
    "\n",
    "        return [opt], [sch]\n"
   ]
  },
  {
   "cell_type": "code",
   "execution_count": 6,
   "metadata": {},
   "outputs": [],
   "source": [
    "#| export\n",
    "class AtmosphericDataset(Dataset):\n",
    "    def __init__(self, datapath, transform=None):\n",
    "\n",
    "        data = read_netcdfs(\n",
    "            files=f\"{datapath}/atmosphericForcing/????/rain.mom.dta.nc\",\n",
    "            dim=\"time\",\n",
    "            transform_func=lambda ds:preprocess(ds)\n",
    "            )       \n",
    "        labels = xr.open_mfdataset(f\"{datapath}/runoffData/combined_fastriver_001.nc\")\n",
    "        runoff = labels.roflux.resample(time=\"1D\").mean()\n",
    "\n",
    "        rainData = data[\"RAIN\"]\n",
    "        runoffData = runoff.sel(time=slice(str(rainData.time.min().data), str(rainData.time.max().data)))\n",
    "        X = (rainData - rainData.mean())/rainData.std()\n",
    "        y = (runoffData - runoffData.mean())/runoffData.std()\n",
    "\n",
    "        # TODO \n",
    "        # add dummy dimension in only one atmospheric data file\n",
    "        # is loaded\n",
    "        X = torch.tensor(X.compute().data, dtype=torch.float32)\n",
    "        X = X.unsqueeze(dim=0)\n",
    "        \n",
    "        self.x = X\n",
    "        self.y = torch.tensor(y.compute().data, dtype=torch.float32).flatten()\n",
    "\n",
    "    def __getitem__(self, index):\n",
    "        return self.x[:, index:index+30], self.y[index+30]\n",
    "\n",
    "    def __len__(self):\n",
    "        return self.y.shape[0]-30\n"
   ]
  },
  {
   "cell_type": "code",
   "execution_count": 7,
   "metadata": {},
   "outputs": [],
   "source": [
    "#| export\n",
    "class AtmosphereDataModule(L.LightningDataModule):\n",
    "    def __init__(self, datapath, batch_size=64, num_workers=8, add_first_dim=True):\n",
    "        super().__init__()\n",
    "        self.data_dir = datapath\n",
    "        self.batch_size = batch_size\n",
    "        self.num_workers = num_workers\n",
    "        self.add_first_dim = add_first_dim\n",
    "\n",
    "    def setup(self, stage:str):\n",
    "        UserWarning(\"Loading atmospheric data ...\")\n",
    "        dataset = AtmosphericDataset(datapath=self.data_dir)\n",
    "        n_samples = len(dataset)\n",
    "        train_size = int(0.8 * n_samples)\n",
    "        val_size = int(0.1 * n_samples)\n",
    "        test_size = n_samples - train_size - val_size\n",
    "        self.train, self.val, self.test = random_split(dataset, [train_size, val_size, test_size])\n",
    "\n",
    "        \n",
    "    def train_dataloader(self):\n",
    "        return DataLoader(\n",
    "            dataset=self.train,\n",
    "            batch_size=self.batch_size,\n",
    "            shuffle=True, \n",
    "            drop_last=True, \n",
    "            num_workers=self.num_workers)\n",
    "    \n",
    "    def val_dataloader(self):\n",
    "        return DataLoader(\n",
    "            dataset=self.val,\n",
    "            batch_size=self.batch_size,\n",
    "            shuffle=False,\n",
    "            num_workers=self.num_workers,\n",
    "            drop_last=True)\n",
    "\n",
    "    def test_dataloader(self):\n",
    "        return DataLoader(\n",
    "            self.test,\n",
    "            batch_size=self.batch_size,\n",
    "            shuffle=False,\n",
    "            num_workers=self.num_workers, \n",
    "            drop_last=True)"
   ]
  },
  {
   "cell_type": "code",
   "execution_count": 8,
   "metadata": {},
   "outputs": [],
   "source": [
    "# Our GPU has tensor cores, hence mixed precision training is enabled\n",
    "# see https://sebastianraschka.com/blog/2023/llm-mixed-precision-copy.html\n",
    "# for more\n",
    "\n",
    "torch.set_float32_matmul_precision(\"medium\")"
   ]
  },
  {
   "cell_type": "code",
   "execution_count": 9,
   "metadata": {},
   "outputs": [
    {
     "name": "stderr",
     "output_type": "stream",
     "text": [
      "Global seed set to 123\n"
     ]
    },
    {
     "data": {
      "text/plain": [
       "123"
      ]
     },
     "execution_count": 9,
     "metadata": {},
     "output_type": "execute_result"
    }
   ],
   "source": [
    "L.pytorch.seed_everything(123)"
   ]
  },
  {
   "cell_type": "markdown",
   "metadata": {},
   "source": [
    "Quickly inspect if $\\Delta t$ in the data changes. If not simply resampling should do it."
   ]
  },
  {
   "cell_type": "code",
   "execution_count": 10,
   "metadata": {},
   "outputs": [
    {
     "data": {
      "text/plain": [
       "[<matplotlib.lines.Line2D at 0x7f77268b60d0>]"
      ]
     },
     "execution_count": 10,
     "metadata": {},
     "output_type": "execute_result"
    },
    {
     "data": {
      "image/png": "[encoded data removed]",
      "text/plain": [
       "<Figure size 640x480 with 1 Axes>"
      ]
     },
     "metadata": {},
     "output_type": "display_data"
    }
   ],
   "source": [
    "datapath = \"/silor/boergel/paper/runoff_prediction/data\"\n",
    "labels = xr.open_mfdataset(f\"{datapath}/runoffData/combined_fastriver_005.nc\")\n",
    "labels.time.diff(\"time\").diff(\"time\").plot()\n"
   ]
  },
  {
   "cell_type": "code",
   "execution_count": 11,
   "metadata": {},
   "outputs": [],
   "source": [
    "dataLoader = AtmosphereDataModule(\n",
    "    datapath=\"/silor/boergel/paper/runoff_prediction/data\",\n",
    "    batch_size=64\n",
    "    )"
   ]
  },
  {
   "cell_type": "code",
   "execution_count": 12,
   "metadata": {},
   "outputs": [],
   "source": [
    "modelParameters = {\n",
    "    \"input_dim\":30, # timesteps\n",
    "    \"hidden_dim\":1, # Channels -> right now only precipitation\n",
    "    \"kernel_size\":(3,3), # applied for spatial convolutions\n",
    "    \"num_layers\":2, # number of convLSTM layers\n",
    "    \"batch_first\":True, # first index is batch\n",
    "    \"bias\":True, \n",
    "    \"return_all_layers\": False, \n",
    "    \"dimensions\": (191, 206) # dimensions of atmospheric forcing\n",
    "}\n",
    "\n",
    "num_epochs = 50"
   ]
  },
  {
   "cell_type": "code",
   "execution_count": 13,
   "metadata": {},
   "outputs": [],
   "source": [
    "pyTorchBaltNet = BaltNet(modelPar=modelParameters)\n",
    "LighningBaltNet = LighningModel(pyTorchBaltNet, learning_rate=1e-3, cosine_t_max=num_epochs)"
   ]
  },
  {
   "cell_type": "code",
   "execution_count": 14,
   "metadata": {},
   "outputs": [],
   "source": [
    "callbacks = [\n",
    "    ModelCheckpoint(save_top_k=1, mode=\"max\", monitor=\"val_mse\", save_last=True)\n",
    "]"
   ]
  },
  {
   "cell_type": "code",
   "execution_count": 15,
   "metadata": {},
   "outputs": [
    {
     "name": "stderr",
     "output_type": "stream",
     "text": [
      "GPU available: True (cuda), used: True\n",
      "TPU available: False, using: 0 TPU cores\n",
      "IPU available: False, using: 0 IPUs\n",
      "HPU available: False, using: 0 HPUs\n"
     ]
    }
   ],
   "source": [
    "trainer = L.Trainer(\n",
    "    max_epochs=num_epochs,\n",
    "    accelerator=\"cuda\",\n",
    "    devices=2,\n",
    "    logger=CSVLogger(save_dir=\"/silor/boergel/paper/runoff_prediction/logs\", name=\"BaltNet1\"),\n",
    "    deterministic=True,\n",
    ")"
   ]
  },
  {
   "cell_type": "code",
   "execution_count": 16,
   "metadata": {},
   "outputs": [
    {
     "name": "stderr",
     "output_type": "stream",
     "text": [
      "[rank: 0] Global seed set to 123\n",
      "[rank: 1] Global seed set to 123\n",
      "Initializing distributed: GLOBAL_RANK: 0, MEMBER: 1/2\n",
      "Initializing distributed: GLOBAL_RANK: 1, MEMBER: 2/2\n",
      "----------------------------------------------------------------------------------------------------\n",
      "distributed_backend=nccl\n",
      "All distributed processes registered. Starting with 2 processes\n",
      "----------------------------------------------------------------------------------------------------\n",
      "\n",
      "100%|██████████| 54/54 [01:20<00:00,  1.49s/it]\n",
      "100%|██████████| 54/54 [01:52<00:00,  2.08s/it]\n",
      "LOCAL_RANK: 0 - CUDA_VISIBLE_DEVICES: [0,1]\n",
      "LOCAL_RANK: 1 - CUDA_VISIBLE_DEVICES: [0,1]\n",
      "\n",
      "  | Name      | Type             | Params\n",
      "-----------------------------------------------\n",
      "0 | model     | BaltNet          | 10.1 M\n",
      "1 | train_mse | MeanSquaredError | 0     \n",
      "2 | val_mse   | MeanSquaredError | 0     \n",
      "3 | test_mse  | MeanSquaredError | 0     \n",
      "-----------------------------------------------\n",
      "10.1 M    Trainable params\n",
      "0         Non-trainable params\n",
      "10.1 M    Total params\n",
      "40.302    Total estimated model params size (MB)\n"
     ]
    },
    {
     "name": "stdout",
     "output_type": "stream",
     "text": [
      "Epoch 0: 100%|██████████| 123/123 [00:16<00:00,  7.24it/s, v_num=43, train_mse_step=0.261, train_loss_step=0.261, val_mse=0.427]"
     ]
    },
    {
     "name": "stderr",
     "output_type": "stream",
     "text": [
      "/silos/conda_packages/boergel/miniconda3_4.12.0/OS_15.4/conda_env/BaltNet/lib/python3.11/site-packages/lightning/pytorch/trainer/connectors/logger_connector/result.py:432: PossibleUserWarning: It is recommended to use `self.log('train_mse', ..., sync_dist=True)` when logging on epoch level in distributed setting to accumulate the metric across devices.\n",
      "  warning_cache.warn(\n",
      "/silos/conda_packages/boergel/miniconda3_4.12.0/OS_15.4/conda_env/BaltNet/lib/python3.11/site-packages/lightning/pytorch/trainer/connectors/logger_connector/result.py:432: PossibleUserWarning: It is recommended to use `self.log('train_loss', ..., sync_dist=True)` when logging on epoch level in distributed setting to accumulate the metric across devices.\n",
      "  warning_cache.warn(\n"
     ]
    },
    {
     "name": "stdout",
     "output_type": "stream",
     "text": [
      "Epoch 9:  14%|█▍        | 17/123 [00:02<00:16,  6.44it/s, v_num=43, train_mse_step=0.0246, train_loss_step=0.0246, val_mse=0.0681, train_mse_epoch=0.0391, train_loss_epoch=0.0391] "
     ]
    },
    {
     "name": "stderr",
     "output_type": "stream",
     "text": [
      "/silos/conda_packages/boergel/miniconda3_4.12.0/OS_15.4/conda_env/BaltNet/lib/python3.11/site-packages/lightning/pytorch/trainer/call.py:53: UserWarning: Detected KeyboardInterrupt, attempting graceful shutdown...\n",
      "  rank_zero_warn(\"Detected KeyboardInterrupt, attempting graceful shutdown...\")\n"
     ]
    },
    {
     "name": "stdout",
     "output_type": "stream",
     "text": [
      "Epoch 10:  63%|██████▎   | 77/123 [00:09<00:05,  8.07it/s, v_num=43, train_mse_step=0.0607, train_loss_step=0.0607, val_mse=0.0531, train_mse_epoch=0.030, train_loss_epoch=0.030]  "
     ]
    }
   ],
   "source": [
    "trainer.fit(model=LighningBaltNet, datamodule=dataLoader)"
   ]
  },
  {
   "cell_type": "code",
   "execution_count": null,
   "metadata": {},
   "outputs": [
    {
     "name": "stderr",
     "output_type": "stream",
     "text": [
      "[rank: 0] Global seed set to 123\n",
      "[rank: 1] Global seed set to 123\n",
      "Initializing distributed: GLOBAL_RANK: 1, MEMBER: 2/2\n",
      "Initializing distributed: GLOBAL_RANK: 0, MEMBER: 1/2\n"
     ]
    },
    {
     "name": "stderr",
     "output_type": "stream",
     "text": [
      "----------------------------------------------------------------------------------------------------\n",
      "distributed_backend=nccl\n",
      "All distributed processes registered. Starting with 2 processes\n",
      "----------------------------------------------------------------------------------------------------\n",
      "\n",
      "100%|██████████| 54/54 [01:30<00:00,  1.67s/it]\n",
      "100%|██████████| 54/54 [01:31<00:00,  1.69s/it]\n",
      "LOCAL_RANK: 0 - CUDA_VISIBLE_DEVICES: [0,1]\n",
      "LOCAL_RANK: 1 - CUDA_VISIBLE_DEVICES: [0,1]\n",
      "/silos/conda_packages/boergel/miniconda3_4.12.0/OS_15.4/conda_env/BaltNet/lib/python3.11/site-packages/lightning/pytorch/trainer/connectors/data_connector.py:226: PossibleUserWarning: Using `DistributedSampler` with the dataloaders. During `trainer.test()`, it is recommended to use `Trainer(devices=1, num_nodes=1)` to ensure each sample/batch gets evaluated exactly once. Otherwise, multi-device settings use `DistributedSampler` that replicates some samples to make sure all devices have same batch size in case of uneven inputs.\n",
      "  rank_zero_warn(\n"
     ]
    },
    {
     "name": "stdout",
     "output_type": "stream",
     "text": [
      "Testing DataLoader 0: 100%|██████████| 15/15 [00:03<00:00,  3.83it/s]"
     ]
    },
    {
     "name": "stderr",
     "output_type": "stream",
     "text": [
      "/silos/conda_packages/boergel/miniconda3_4.12.0/OS_15.4/conda_env/BaltNet/lib/python3.11/site-packages/lightning/pytorch/trainer/connectors/logger_connector/result.py:432: PossibleUserWarning: It is recommended to use `self.log('test_loss', ..., sync_dist=True)` when logging on epoch level in distributed setting to accumulate the metric across devices.\n",
      "  warning_cache.warn(\n"
     ]
    },
    {
     "name": "stdout",
     "output_type": "stream",
     "text": [
      "Testing DataLoader 0: 100%|██████████| 15/15 [00:03<00:00,  3.82it/s]\n"
     ]
    },
    {
     "data": {
      "text/html": [
       "<pre style=\"white-space:pre;overflow-x:auto;line-height:normal;font-family:Menlo,'DejaVu Sans Mono',consolas,'Courier New',monospace\">┏━━━━━━━━━━━━━━━━━━━━━━━━━━━┳━━━━━━━━━━━━━━━━━━━━━━━━━━━┓\n",
       "┃<span style=\"font-weight: bold\">   Runningstage.testing    </span>┃<span style=\"font-weight: bold\">                           </span>┃\n",
       "┃<span style=\"font-weight: bold\">          metric           </span>┃<span style=\"font-weight: bold\">       DataLoader 0        </span>┃\n",
       "┡━━━━━━━━━━━━━━━━━━━━━━━━━━━╇━━━━━━━━━━━━━━━━━━━━━━━━━━━┩\n",
       "│<span style=\"color: #008080; text-decoration-color: #008080\">         test_loss         </span>│<span style=\"color: #800080; text-decoration-color: #800080\">    0.4748583436012268     </span>│\n",
       "│<span style=\"color: #008080; text-decoration-color: #008080\">         test_mse          </span>│<span style=\"color: #800080; text-decoration-color: #800080\">    0.4527163803577423     </span>│\n",
       "└───────────────────────────┴───────────────────────────┘\n",
       "</pre>\n"
      ],
      "text/plain": [
       "┏━━━━━━━━━━━━━━━━━━━━━━━━━━━┳━━━━━━━━━━━━━━━━━━━━━━━━━━━┓\n",
       "┃\u001b[1m \u001b[0m\u001b[1m  Runningstage.testing   \u001b[0m\u001b[1m \u001b[0m┃\u001b[1m                           \u001b[0m┃\n",
       "┃\u001b[1m \u001b[0m\u001b[1m         metric          \u001b[0m\u001b[1m \u001b[0m┃\u001b[1m \u001b[0m\u001b[1m      DataLoader 0       \u001b[0m\u001b[1m \u001b[0m┃\n",
       "┡━━━━━━━━━━━━━━━━━━━━━━━━━━━╇━━━━━━━━━━━━━━━━━━━━━━━━━━━┩\n",
       "│\u001b[36m \u001b[0m\u001b[36m        test_loss        \u001b[0m\u001b[36m \u001b[0m│\u001b[35m \u001b[0m\u001b[35m   0.4748583436012268    \u001b[0m\u001b[35m \u001b[0m│\n",
       "│\u001b[36m \u001b[0m\u001b[36m        test_mse         \u001b[0m\u001b[36m \u001b[0m│\u001b[35m \u001b[0m\u001b[35m   0.4527163803577423    \u001b[0m\u001b[35m \u001b[0m│\n",
       "└───────────────────────────┴───────────────────────────┘\n"
      ]
     },
     "metadata": {},
     "output_type": "display_data"
    },
    {
     "data": {
      "text/plain": [
       "[{'test_loss': 0.4748583436012268, 'test_mse': 0.4527163803577423}]"
      ]
     },
     "execution_count": 16,
     "metadata": {},
     "output_type": "execute_result"
    }
   ],
   "source": [
    "trainer.test(model=LighningBaltNet, datamodule=dataLoader)"
   ]
  },
  {
   "cell_type": "code",
   "execution_count": null,
   "metadata": {},
   "outputs": [],
   "source": []
  }
 ],
 "metadata": {
  "kernelspec": {
   "display_name": "computation",
   "language": "python",
   "name": "python3"
  },
  "language_info": {
   "codemirror_mode": {
    "name": "ipython",
    "version": 3
   },
   "file_extension": ".py",
   "mimetype": "text/x-python",
   "name": "python",
   "nbconvert_exporter": "python",
   "pygments_lexer": "ipython3",
   "version": "3.11.5"
  },
  "orig_nbformat": 4
 },
 "nbformat": 4,
 "nbformat_minor": 2
}
