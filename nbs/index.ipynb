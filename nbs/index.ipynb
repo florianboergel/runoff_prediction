{
 "cells": [
  {
   "cell_type": "markdown",
   "metadata": {},
   "source": [
    "# Baltic River Prediction"
   ]
  },
  {
   "cell_type": "markdown",
   "metadata": {},
   "source": [
    "\n",
    "## Maksfile\n",
    "\n",
    "The file `mask.nc` contains masks for each catchment area belonging to a particular basin.\n",
    "Each basin is identified with a mask values.\n",
    "This file can be used as a basis to train a neural network to map atmospheric variables onto a rivers that supply the individual basins.\n",
    "\n",
    "\n",
    "## River locations\n",
    "\n",
    "The file `rivers.json` contains a list of river mouths and their locations in longitudes and latitudes.\n",
    "\n",
    "\n",
    "## Grid file\n",
    "\n",
    "The file `t_grid.nc` specifies the grid on which the runoff model will work.\n",
    "This model is curently named `ROFF`.\n",
    "The file is in the `SCRIP` format and contains the region that is masked in `mask.nc`.\n",
    "However, the grid is transformed to a grid with rank one, i.e. all grid points are aligned in a one-dimensional array.\n",
    "\n",
    "\n",
    "## River locations on the model grids\n",
    "\n",
    "The file `model_points.json` contains a list of all rivers in `rivers.json` with their location mapped on the involved model grid points, i.e. nearest neighboring points of the true locations.\n",
    "\n",
    "## Installation \n",
    "\n"
   ]
  }
 ],
 "metadata": {
  "language_info": {
   "name": "python"
  },
  "orig_nbformat": 4
 },
 "nbformat": 4,
 "nbformat_minor": 2
}
