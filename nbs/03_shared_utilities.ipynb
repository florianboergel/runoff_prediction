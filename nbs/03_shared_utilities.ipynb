{
 "cells": [
  {
   "cell_type": "code",
   "execution_count": 9,
   "metadata": {},
   "outputs": [],
   "source": [
    "#| default_exp sharedUtilities\n",
    "#| default_cls_lvl 3"
   ]
  },
  {
   "cell_type": "markdown",
   "metadata": {},
   "source": [
    "# Shared utilties"
   ]
  },
  {
   "cell_type": "code",
   "execution_count": 10,
   "metadata": {},
   "outputs": [],
   "source": [
    "#| export\n",
    "import xarray as xr\n",
    "from glob import glob\n",
    "from tqdm import tqdm \n",
    "import numpy as np\n",
    "\n",
    "import pandas as pd\n",
    "import matplotlib.pyplot as plt"
   ]
  },
  {
   "cell_type": "code",
   "execution_count": 12,
   "metadata": {},
   "outputs": [],
   "source": [
    "#| export\n",
    "def preprocess(ds):\n",
    "    \"\"\"\n",
    "    Used data has overlapping time data since they contain one month before the actual year\n",
    "    and one month after the actual year.\n",
    "    The function selects only the year of interest without the overlapping time data.\n",
    "\n",
    "    Args:\n",
    "        ds (xr.Dataset): netCDF4 data\n",
    "\n",
    "    Returns:\n",
    "        xr.Dataset: data without time overlap\n",
    "    \"\"\"\n",
    "    return ds.sel(time=str(ds.time[len(ds.time)//2].dt.year.data)).resample(time=\"1D\").mean()\n"
   ]
  },
  {
   "cell_type": "code",
   "execution_count": 13,
   "metadata": {},
   "outputs": [],
   "source": [
    "#| export\n",
    "def read_netcdfs(files, dim, transform_func, transform_calendar=None, cftime = True):\n",
    "    \"\"\"Reads multiples netcdfs files\"\"\"\n",
    "    def process_one_path(path):\n",
    "        try:\n",
    "            if transform_calendar is not None:\n",
    "                calendar = False\n",
    "            else:\n",
    "                calendar = True\n",
    "            with xr.open_dataset(path, decode_times = calendar, use_cftime = cftime) as ds:\n",
    "                if transform_calendar is not None:\n",
    "                    ds[dim].attrs['calendar'] = transform_calendar\n",
    "                    ds = xr.decode_cf(ds, use_cftime = cftime)\n",
    "                if transform_func is not None:\n",
    "                    ds = transform_func(ds)\n",
    "                ds.load()\n",
    "                return ds\n",
    "        except Exception as e:\n",
    "            print(path)\n",
    "            print(e)\n",
    "            return\n",
    "    paths = sorted(glob(files))\n",
    "    datasets = [process_one_path(p) for p in tqdm(paths)]\n",
    "    datasets = [x for x in datasets if x is not None]\n",
    "    combined = xr.concat(datasets, dim)\n",
    "    return combined"
   ]
  },
  {
   "cell_type": "code",
   "execution_count": 14,
   "metadata": {},
   "outputs": [],
   "source": [
    "#| export\n",
    "def transform_calendar(ds,\n",
    "                       timedim=\"time\",\n",
    "                       calendarname=\"proleptic_gregorin\"):\n",
    "    \"\"\"Transforms calendar of time index in xarray dataset\"\"\"\n",
    "    ds[timedim].attrs['calendar'] = calendarname\n",
    "    return ds"
   ]
  },
  {
   "cell_type": "code",
   "execution_count": 15,
   "metadata": {},
   "outputs": [],
   "source": [
    "#| export\n",
    "\n",
    "def plot_loss_and_acc(\n",
    "    log_dir, loss_ylim=(0.0, 0.9), acc_ylim=(0.7, 1.0), save_loss=None, save_acc=None\n",
    "):\n",
    "\n",
    "    metrics = pd.read_csv(f\"{log_dir}/metrics.csv\")\n",
    "\n",
    "    aggreg_metrics = []\n",
    "    agg_col = \"epoch\"\n",
    "    for i, dfg in metrics.groupby(agg_col):\n",
    "        agg = dict(dfg.mean())\n",
    "        agg[agg_col] = i\n",
    "        aggreg_metrics.append(agg)\n",
    "\n",
    "    df_metrics = pd.DataFrame(aggreg_metrics)\n",
    "    df_metrics[[\"train_loss_epoch\", \"val_loss\"]].plot(\n",
    "        grid=True, legend=True, xlabel=\"Epoch\", ylabel=\"Loss\"\n",
    "    )\n",
    "\n",
    "    plt.ylim(loss_ylim)\n",
    "    if save_loss is not None:\n",
    "        plt.savefig(save_loss)\n",
    "\n",
    "    if save_acc is not None:\n",
    "        plt.savefig(save_acc)"
   ]
  }
 ],
 "metadata": {
  "kernelspec": {
   "display_name": "Python 3",
   "language": "python",
   "name": "python3"
  },
  "language_info": {
   "codemirror_mode": {
    "name": "ipython",
    "version": 3
   },
   "file_extension": ".py",
   "mimetype": "text/x-python",
   "name": "python",
   "nbconvert_exporter": "python",
   "pygments_lexer": "ipython3",
   "version": "3.11.5"
  },
  "orig_nbformat": 4
 },
 "nbformat": 4,
 "nbformat_minor": 2
}
