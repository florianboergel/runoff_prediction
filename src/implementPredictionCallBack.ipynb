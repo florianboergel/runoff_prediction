{
 "cells": [
  {
   "cell_type": "code",
   "execution_count": 1,
   "metadata": {},
   "outputs": [],
   "source": [
    "import numpy as np\n",
    "import argparse\n",
    "import sys\n",
    "import matplotlib.pyplot as plt\n",
    "\n",
    "import xarray as xr\n",
    "import torch\n",
    "import torch.nn as nn\n",
    "from torch.utils.data import DataLoader, Dataset\n",
    "from torch.utils.data.dataset import random_split\n",
    "from torchmetrics import Metric\n",
    "import lightning as L\n",
    "from lightning.pytorch.callbacks import ModelCheckpoint\n",
    "from lightning.pytorch.loggers import TensorBoardLogger\n",
    "from BalticRiverPrediction.BaltNet import AtmosphericDataset\n",
    "from BalticRiverPrediction.BaltNet import BaltNet\n",
    "\n",
    "from lightning.pytorch.callbacks import BasePredictionWriter\n",
    "import math\n",
    "\n",
    "import torch\n",
    "import torch.nn as nn"
   ]
  },
  {
   "cell_type": "code",
   "execution_count": 2,
   "metadata": {},
   "outputs": [],
   "source": [
    "class EnhancedMSELoss(nn.Module):\n",
    "    def __init__(self, alpha=1.5):\n",
    "        \"\"\"\n",
    "        Initialize the enhanced MSE loss module.\n",
    "\n",
    "        Args:\n",
    "            alpha (float): Exponential factor to increase penalty for larger errors.\n",
    "        \"\"\"\n",
    "        super(EnhancedMSELoss, self).__init__()\n",
    "        self.alpha = alpha\n",
    "\n",
    "    def forward(self, predictions, targets):\n",
    "        \"\"\"\n",
    "        Calculate the enhanced MSE loss.\n",
    "\n",
    "        Args:\n",
    "            predictions (torch.Tensor): The predicted values.\n",
    "            targets (torch.Tensor): The ground truth values.\n",
    "\n",
    "        Returns:\n",
    "            torch.Tensor: The calculated loss.\n",
    "        \"\"\"\n",
    "        error = predictions - targets\n",
    "        mse_loss = torch.mean(error**2)\n",
    "        enhanced_error = torch.mean(torch.abs(error) ** self.alpha)\n",
    "        enhanced_mse_loss = mse_loss + enhanced_error\n",
    "        return enhanced_mse_loss"
   ]
  },
  {
   "cell_type": "code",
   "execution_count": 3,
   "metadata": {},
   "outputs": [],
   "source": [
    "class EnhancedMSEMetric(Metric):\n",
    "    def __init__(self, alpha=1.5, dist_sync_on_step=False):\n",
    "        super().__init__(dist_sync_on_step=dist_sync_on_step)\n",
    "        self.alpha = alpha\n",
    "        self.add_state(\"sum_enhanced_error\", default=torch.tensor(0.0), dist_reduce_fx=\"sum\")\n",
    "        self.add_state(\"total\", default=torch.tensor(0), dist_reduce_fx=\"sum\")\n",
    "\n",
    "    def update(self, predictions: torch.Tensor, targets: torch.Tensor):\n",
    "        error = predictions - targets\n",
    "        mse_loss = torch.mean(error ** 2)\n",
    "        enhanced_error = torch.mean(torch.abs(error) ** self.alpha)\n",
    "\n",
    "        self.sum_enhanced_error += (mse_loss + enhanced_error) * targets.numel()\n",
    "        self.total += targets.numel()\n",
    "\n",
    "    def compute(self):\n",
    "        return self.sum_enhanced_error / self.total"
   ]
  },
  {
   "cell_type": "code",
   "execution_count": 4,
   "metadata": {},
   "outputs": [],
   "source": [
    "class AtmosphereDataModule(L.LightningDataModule):\n",
    "\n",
    "    def __init__(self, atmosphericData, runoff, batch_size=64, num_workers=8, add_first_dim=True, input_size=30):\n",
    "        super().__init__()\n",
    "\n",
    "        self.data = atmosphericData\n",
    "        self.runoff = runoff\n",
    "        self.batch_size = batch_size\n",
    "        self.num_workers = num_workers\n",
    "        self.add_first_dim = add_first_dim\n",
    "        self.input_size = input_size\n",
    "\n",
    "    def setup(self, stage:str):\n",
    "\n",
    "        UserWarning(\"Loading atmospheric data ...\")\n",
    "        dataset = AtmosphericDataset(\n",
    "            atmosphericData=self.data,\n",
    "            runoff=self.runoff,\n",
    "            input_size=self.input_size\n",
    "            )\n",
    "        \n",
    "        n_samples = len(dataset)\n",
    "\n",
    "        train_size = int(0.8 * n_samples)  \n",
    "        val_size = int(0.1 * n_samples)   \n",
    "        test_size = n_samples - train_size - val_size  \n",
    "        self.train, self.val, self.test = random_split(dataset, [train_size, val_size, test_size])\n",
    "        self.runoffDataStats = dataset.runoffDataStats\n",
    "        \n",
    "    def train_dataloader(self):\n",
    "        return DataLoader(\n",
    "            dataset=self.train,\n",
    "            batch_size=self.batch_size,\n",
    "            shuffle=True, \n",
    "            drop_last=True, \n",
    "            num_workers=self.num_workers,\n",
    "            pin_memory=False  # Speed up data transfer to GPU\n",
    "        )\n",
    "\n",
    "    def val_dataloader(self):\n",
    "        return DataLoader(\n",
    "            dataset=self.val,\n",
    "            batch_size=self.batch_size,\n",
    "            shuffle=False,\n",
    "            num_workers=self.num_workers,\n",
    "            drop_last=True,\n",
    "            pin_memory=False  # Speed up data transfer to GPU\n",
    "        )\n",
    "\n",
    "    def test_dataloader(self):\n",
    "        return DataLoader(\n",
    "            dataset=self.test,\n",
    "            batch_size=self.batch_size,\n",
    "            shuffle=False,\n",
    "            num_workers=self.num_workers,\n",
    "            drop_last=True,\n",
    "            pin_memory=False  # Speed up data transfer to GPU\n",
    "    )\n"
   ]
  },
  {
   "cell_type": "code",
   "execution_count": 5,
   "metadata": {},
   "outputs": [],
   "source": [
    "class LightningModel(L.LightningModule):\n",
    "    \"\"\"\n",
    "    A PyTorch Lightning model for training and evaluation.\n",
    "    \n",
    "    Attributes:\n",
    "        model (nn.Module): The neural network model.\n",
    "        learning_rate (float): Learning rate for the optimizer.\n",
    "        cosine_t_max (int): Maximum number of iterations for the cosine annealing scheduler.\n",
    "        train_mse (torchmetrics.MeanSquaredError): Metric for training mean squared error.\n",
    "        val_mse (torchmetrics.MeanSquaredError): Metric for validation mean squared error.\n",
    "        test_mse (torchmetrics.MeanSquaredError): Metric for testing mean squared error.\n",
    "    \"\"\"\n",
    "    \n",
    "    def __init__(self, model, learning_rate, cosine_t_max, alpha=4):\n",
    "        \"\"\"\n",
    "        Initializes the LightningModel.\n",
    "\n",
    "        Args:\n",
    "            model (nn.Module): The neural network model.\n",
    "            learning_rate (float): Learning rate for the optimizer.\n",
    "            cosine_t_max (int): Maximum number of iterations for the cosine annealing scheduler.\n",
    "        \"\"\"\n",
    "        super().__init__()\n",
    "\n",
    "        self.learning_rate = learning_rate\n",
    "        self.model = model\n",
    "        self.cosine_t_max = cosine_t_max\n",
    "        self.loss_function = EnhancedMSELoss(alpha=alpha)\n",
    "\n",
    "        # Save hyperparameters except the model\n",
    "        self.save_hyperparameters(ignore=[\"model\"])\n",
    "\n",
    "        # Define metrics\n",
    "        self.train_mse = EnhancedMSEMetric(alpha=alpha)\n",
    "        self.val_mse = EnhancedMSEMetric(alpha=alpha)\n",
    "        self.test_mse = EnhancedMSEMetric(alpha=alpha)\n",
    "\n",
    "    def forward(self, x):\n",
    "        \"\"\"Defines the forward pass of the model.\"\"\"\n",
    "        return self.model(x)\n",
    "    \n",
    "    def _shared_step(self, batch, debug=False):\n",
    "        \"\"\"\n",
    "        Shared step for training, validation, and testing.\n",
    "\n",
    "        Args:\n",
    "            batch (tuple): Input batch of data.\n",
    "            debug (bool, optional): If True, prints the loss. Defaults to False.\n",
    "\n",
    "        Returns:\n",
    "            tuple: Computed loss, true labels, and predicted labels.\n",
    "        \"\"\"\n",
    "        features, true_labels = batch\n",
    "        logits = self.model(features)\n",
    "        loss = self.loss_function(logits, true_labels)\n",
    "        if debug:\n",
    "            print(loss)\n",
    "        return loss, true_labels, logits\n",
    "    \n",
    "    def training_step(self, batch, batch_idx):\n",
    "        \"\"\"Training step.\"\"\"\n",
    "        loss, true_labels, predicted_labels = self._shared_step(batch)\n",
    "        mse = self.train_mse(predicted_labels, true_labels)\n",
    "        metrics = {\"train_mse\": mse, \"train_loss\": loss}\n",
    "        self.log_dict(metrics, on_step=True, on_epoch=True, prog_bar=True, logger=True, sync_dist=True)\n",
    "        return loss\n",
    "    \n",
    "    def validation_step(self, batch, batch_idx):\n",
    "        \"\"\"Validation step.\"\"\"\n",
    "        loss, true_labels, predicted_labels = self._shared_step(batch)\n",
    "        mse = self.val_mse(predicted_labels, true_labels)\n",
    "        self.log(\"val_loss\", loss, sync_dist=True)\n",
    "        self.log(\"val_mse\", mse, prog_bar=True, sync_dist=True)\n",
    "    \n",
    "    def test_step(self, batch, _):\n",
    "        \"\"\"Test step.\"\"\"\n",
    "        loss, true_labels, predicted_labels = self._shared_step(batch)\n",
    "        mse = self.test_mse(predicted_labels, true_labels)\n",
    "        self.log(\"test_loss\", loss, rank_zero_only=True)\n",
    "        self.log(\"test_mse\", mse, sync_dist=True)\n",
    "        return loss\n",
    "    \n",
    "    def predict_step(self, batch, batch_idx: int, dataloader_idx: int = 0):\n",
    "        \"\"\"Prediction step.\"\"\"\n",
    "        _, _, predicted_labels = self._shared_step(batch)\n",
    "        return predicted_labels\n",
    "\n",
    "    def configure_optimizers(self):\n",
    "        \"\"\"\n",
    "        Configures the optimizer and learning rate scheduler.\n",
    "\n",
    "        Returns:\n",
    "            tuple: List of optimizers and list of learning rate schedulers.\n",
    "        \"\"\"\n",
    "        opt = torch.optim.AdamW(self.parameters(), lr=self.learning_rate, weight_decay=1e-4)\n",
    "        sch = torch.optim.lr_scheduler.ReduceLROnPlateau(opt, mode='min', factor=0.1, patience=10, verbose=False)\n",
    "        return {\"optimizer\": opt, \"lr_scheduler\": sch, \"monitor\": \"val_mse\"}"
   ]
  },
  {
   "cell_type": "code",
   "execution_count": 6,
   "metadata": {},
   "outputs": [],
   "source": [
    "class PredictionPlottingCallback(L.Callback):\n",
    "    def __init__(self, num_samples_to_plot=10, rolling_window_size=120):\n",
    "        \"\"\"\n",
    "        Args:\n",
    "            testDataSet (Dataset): DataLoader for the prediction dataset.\n",
    "            num_samples_to_plot (int): Number of samples to plot.\n",
    "            dimensions_to_plot (tuple): Dimensions to plot in the time series.\n",
    "        \"\"\"\n",
    "        super().__init__()\n",
    "        #self.predictionDataLoader = DataLoader(testDataSet, batch_size=32, shuffle=False, drop_last=True)\n",
    "        self.num_samples_to_plot = num_samples_to_plot\n",
    "        self.rolling_window_size = rolling_window_size\n",
    "\n",
    "    def on_train_epoch_end(self, trainer, pl_module):\n",
    "        test_dataloader = DataLoader(trainer.datamodule.test, batch_size=32, shuffle=False, drop_last=True)\n",
    "        try:\n",
    "            pl_module.eval()\n",
    "            self.all_predictions = []\n",
    "            self.all_labels = []\n",
    "\n",
    "            with torch.no_grad():\n",
    "                for batch in test_dataloader:\n",
    "                    features, true_labels = batch\n",
    "                    # Move data to the same device as the model\n",
    "                    features, true_labels = features.to(pl_module.device), true_labels.to(pl_module.device)\n",
    "                    predictions = pl_module(features)\n",
    "\n",
    "                    # Move predictions and labels to CPU for concatenation\n",
    "                    self.all_predictions.append(predictions.cpu())\n",
    "                    self.all_labels.append(true_labels.cpu())\n",
    "\n",
    "                # Ensure all tensors are on CPU before concatenation\n",
    "                self.all_predictions = torch.cat(self.all_predictions, dim=0)\n",
    "                self.all_labels = torch.cat(self.all_labels, dim=0)\n",
    "\n",
    "                self.plot_time_series(self.all_labels, self.all_predictions, trainer.current_epoch, trainer.datamodule.runoffDataStats)\n",
    "            pl_module.train()\n",
    "        except Exception as e:\n",
    "            print(f\"Exception in callback: {e}\")\n",
    "\n",
    "    def rolling_mean(self, data, window_size):\n",
    "            \"\"\"Apply a rolling mean to a 2D tensor along the time dimension.\"\"\"\n",
    "            cumsum_vec = np.cumsum(np.insert(data, 0, 0, axis=0), axis=0)\n",
    "            return (cumsum_vec[window_size:] - cumsum_vec[:-window_size]) / window_size\n",
    "\n",
    "    def plot_time_series(self, true_labels, predictions, epoch, runoffStats):\n",
    "        num_plots = min(len(predictions), self.num_samples_to_plot)\n",
    "        # Calculate the number of rows and columns for the subplot\n",
    "        num_cols = int(math.ceil(math.sqrt(num_plots)))\n",
    "        num_rows = int(math.ceil(num_plots / num_cols))\n",
    "\n",
    "        true_labels = true_labels*runoffStats[1].data + runoffStats[0].data\n",
    "        predictions = predictions*runoffStats[1].data + runoffStats[0].data\n",
    "\n",
    "        # Apply rolling mean\n",
    "        smoothed_true_labels = self.rolling_mean(true_labels.numpy(), self.rolling_window_size)\n",
    "        smoothed_predictions = self.rolling_mean(predictions.numpy(), self.rolling_window_size)\n",
    "\n",
    "        avg_labels = true_labels.mean(dim=0)\n",
    "        _, top_river_indices = torch.topk(avg_labels, self.num_samples_to_plot, largest=True)    \n",
    "\n",
    "        plt.figure(figsize=(num_cols * 4, num_rows * 4))  # Adjust the size dynamically based on the number of subplots\n",
    "        for i, river_index in enumerate(top_river_indices):\n",
    "            plt.subplot(num_rows, num_cols, i + 1)\n",
    "            plt.plot(smoothed_predictions[:, river_index], label=f\"Smoothed Pred for river {i}\")\n",
    "            plt.plot(smoothed_true_labels[:, river_index], label=f\"Smoothed True for river {i}\", alpha=0.5)\n",
    "            plt.legend()\n",
    "\n",
    "        plt.suptitle(f\"Epoch {epoch} Predictions {self.num_samples_to_plot} largest rivers\")  \n",
    "        plt.xlabel(\"Time\")  \n",
    "        plt.ylabel(\"Value\")  \n",
    "        plt.savefig(f'figures/time_series_predictions_epoch_{epoch}.png')\n",
    "        plt.close() "
   ]
  },
  {
   "cell_type": "code",
   "execution_count": 7,
   "metadata": {},
   "outputs": [
    {
     "name": "stderr",
     "output_type": "stream",
     "text": [
      "Global seed set to 123\n"
     ]
    }
   ],
   "source": [
    "# Set seed for reproducible\n",
    "L.seed_everything(123)\n",
    "\n",
    "# Use available tensor cores\n",
    "torch.set_float32_matmul_precision(\"medium\")\n",
    "\n",
    "datapath=\"/silor/boergel/paper/runoff_prediction/data\"\n",
    "datapathPP=\"/silod9/boergel/runoff_prediction_ERA5_downscaled_coupled_model/resampled\"\n",
    "\n",
    "runoff = xr.open_dataset(f\"{datapath}/runoff.nc\").load()\n",
    "runoff = runoff.sel(time=slice(\"1979\", \"2005\"))\n",
    "runoff = runoff.roflux\n",
    "\n",
    "DataRain = xr.open_dataset(f\"{datapathPP}/rain.nc\")\n",
    "DataRain = DataRain.sel(time=slice(\"1979\", \"2005\"))\n",
    "DataRain = DataRain.rain.squeeze()\n",
    "DataRain = DataRain.drop([\"lon\",\"lat\"])\n",
    "DataRain = DataRain.rename({\"rlon\":\"x\",\"rlat\":\"y\"})\n",
    "\n",
    "DataShumi = xr.open_dataset(f\"{datapathPP}/QV.nc\")\n",
    "DataShumi = DataShumi.sel(time=slice(\"1979\", \"2005\"))\n",
    "DataShumi = DataShumi.QV.squeeze()\n",
    "DataShumi = DataShumi.drop([\"lon\",\"lat\"])\n",
    "DataShumi = DataShumi.rename({\"rlon\":\"x\",\"rlat\":\"y\"})\n",
    "\n",
    "DataWindSpeed = xr.open_dataset(f\"{datapathPP}/speed.nc\")\n",
    "DataWindSpeed = DataWindSpeed.sel(time=slice(\"1979\", \"2005\"))\n",
    "DataWindSpeed = DataWindSpeed.speed.squeeze()\n",
    "DataWindSpeed = DataWindSpeed.drop([\"lon\",\"lat\"])\n",
    "DataWindSpeed = DataWindSpeed.rename({\"rlon\":\"x\",\"rlat\":\"y\"})\n",
    "\n",
    "DataTemp = xr.open_dataset(f\"{datapathPP}/T.nc\")\n",
    "DataTemp = DataTemp.sel(time=slice(\"1979\", \"2005\"))\n",
    "DataTemp = DataTemp.T.squeeze()\n",
    "DataTemp = DataTemp.drop([\"lon\",\"lat\"])\n",
    "DataTemp = DataTemp.rename({\"rlon\":\"x\",\"rlat\":\"y\"})\n",
    "\n",
    "assert DataShumi.time[0] == DataRain.time[0] == DataWindSpeed.time[0]\n",
    "assert len(DataShumi.time) == len(DataRain.time) == len(DataWindSpeed.time)\n",
    "\n",
    "data = xr.merge([DataRain, DataShumi, DataWindSpeed, DataTemp])\n",
    "assert len(runoff.time) == len(data.time)"
   ]
  },
  {
   "cell_type": "code",
   "execution_count": 8,
   "metadata": {},
   "outputs": [],
   "source": [
    "modelParameters = {\n",
    "    \"input_dim\": 4,\n",
    "    \"hidden_dim\": 8,\n",
    "    \"kernel_size\": (7,7),\n",
    "    \"num_layers\": 1,\n",
    "    \"batch_first\": True,\n",
    "    \"bias\": True,\n",
    "    \"return_all_layers\": False,\n",
    "    \"dimensions\": (222,244),\n",
    "    \"input_size\": 90\n",
    "}"
   ]
  },
  {
   "cell_type": "code",
   "execution_count": 9,
   "metadata": {},
   "outputs": [],
   "source": [
    "# Loads the atmospheric data in batches\n",
    "dataLoader = AtmosphereDataModule(\n",
    "    atmosphericData=data,\n",
    "    runoff=runoff,\n",
    "    batch_size=16,\n",
    "    input_size=modelParameters[\"input_size\"],\n",
    "    num_workers=8\n",
    ")\n",
    "\n",
    "num_epochs = 80\n",
    "\n",
    "pyTorchBaltNet = BaltNet(modelPar=modelParameters)\n",
    "\n",
    "LightningBaltNet = LightningModel(\n",
    "    model=pyTorchBaltNet,\n",
    "    learning_rate=1e-3,\n",
    "    cosine_t_max=num_epochs\n",
    "    )"
   ]
  },
  {
   "cell_type": "code",
   "execution_count": 10,
   "metadata": {},
   "outputs": [
    {
     "name": "stderr",
     "output_type": "stream",
     "text": [
      "Using bfloat16 Automatic Mixed Precision (AMP)\n",
      "GPU available: True (cuda), used: True\n",
      "TPU available: False, using: 0 TPU cores\n",
      "IPU available: False, using: 0 IPUs\n",
      "HPU available: False, using: 0 HPUs\n",
      "[rank: 0] Global seed set to 123\n",
      "[rank: 1] Global seed set to 123\n",
      "Initializing distributed: GLOBAL_RANK: 0, MEMBER: 1/2\n",
      "Initializing distributed: GLOBAL_RANK: 1, MEMBER: 2/2\n",
      "----------------------------------------------------------------------------------------------------\n",
      "distributed_backend=nccl\n",
      "All distributed processes registered. Starting with 2 processes\n",
      "----------------------------------------------------------------------------------------------------\n",
      "\n",
      "/silos/conda_packages/boergel/miniconda3_4.12.0/OS_15.4/conda_env/BaltNet/lib/python3.11/site-packages/lightning/pytorch/callbacks/model_checkpoint.py:617: UserWarning: Checkpoint directory /silor/boergel/paper/runoff_prediction/data/modelWeights exists and is not empty.\n",
      "  rank_zero_warn(f\"Checkpoint directory {dirpath} exists and is not empty.\")\n",
      "LOCAL_RANK: 0 - CUDA_VISIBLE_DEVICES: [0,1]\n",
      "LOCAL_RANK: 1 - CUDA_VISIBLE_DEVICES: [0,1]\n",
      "\n",
      "  | Name          | Type              | Params\n",
      "----------------------------------------------------\n",
      "0 | model         | BaltNet           | 222 M \n",
      "1 | loss_function | EnhancedMSELoss   | 0     \n",
      "2 | train_mse     | EnhancedMSEMetric | 0     \n",
      "3 | val_mse       | EnhancedMSEMetric | 0     \n",
      "4 | test_mse      | EnhancedMSEMetric | 0     \n",
      "----------------------------------------------------\n",
      "222 M     Trainable params\n",
      "0         Non-trainable params\n",
      "222 M     Total params\n",
      "888.291   Total estimated model params size (MB)\n"
     ]
    },
    {
     "data": {
      "application/vnd.jupyter.widget-view+json": {
       "model_id": "da9fd13e8d05456887058072bd780b82",
       "version_major": 2,
       "version_minor": 0
      },
      "text/plain": [
       "Sanity Checking: 0it [00:00, ?it/s]"
      ]
     },
     "metadata": {},
     "output_type": "display_data"
    },
    {
     "data": {
      "application/vnd.jupyter.widget-view+json": {
       "model_id": "10eb3ec3e03045598ee8006d77324705",
       "version_major": 2,
       "version_minor": 0
      },
      "text/plain": [
       "Training: 0it [00:00, ?it/s]"
      ]
     },
     "metadata": {},
     "output_type": "display_data"
    },
    {
     "data": {
      "application/vnd.jupyter.widget-view+json": {
       "model_id": "ed65b565bfdb4feb95e1ef555aab46ee",
       "version_major": 2,
       "version_minor": 0
      },
      "text/plain": [
       "Validation: 0it [00:00, ?it/s]"
      ]
     },
     "metadata": {},
     "output_type": "display_data"
    },
    {
     "data": {
      "application/vnd.jupyter.widget-view+json": {
       "model_id": "a84330393277437c8c9a127a9b4d744a",
       "version_major": 2,
       "version_minor": 0
      },
      "text/plain": [
       "Validation: 0it [00:00, ?it/s]"
      ]
     },
     "metadata": {},
     "output_type": "display_data"
    },
    {
     "data": {
      "application/vnd.jupyter.widget-view+json": {
       "model_id": "58db446473b745b3b0322d8d233b16a9",
       "version_major": 2,
       "version_minor": 0
      },
      "text/plain": [
       "Validation: 0it [00:00, ?it/s]"
      ]
     },
     "metadata": {},
     "output_type": "display_data"
    },
    {
     "data": {
      "application/vnd.jupyter.widget-view+json": {
       "model_id": "e5df6aff304e45138eb484379cbad1fa",
       "version_major": 2,
       "version_minor": 0
      },
      "text/plain": [
       "Validation: 0it [00:00, ?it/s]"
      ]
     },
     "metadata": {},
     "output_type": "display_data"
    },
    {
     "data": {
      "application/vnd.jupyter.widget-view+json": {
       "model_id": "10e5836a56ec452f9ecd37572e1d85cd",
       "version_major": 2,
       "version_minor": 0
      },
      "text/plain": [
       "Validation: 0it [00:00, ?it/s]"
      ]
     },
     "metadata": {},
     "output_type": "display_data"
    },
    {
     "data": {
      "application/vnd.jupyter.widget-view+json": {
       "model_id": "c87b4b2015cd43acb7572be45039bd2d",
       "version_major": 2,
       "version_minor": 0
      },
      "text/plain": [
       "Validation: 0it [00:00, ?it/s]"
      ]
     },
     "metadata": {},
     "output_type": "display_data"
    },
    {
     "data": {
      "application/vnd.jupyter.widget-view+json": {
       "model_id": "c19ec9743db34e619136552d42162674",
       "version_major": 2,
       "version_minor": 0
      },
      "text/plain": [
       "Validation: 0it [00:00, ?it/s]"
      ]
     },
     "metadata": {},
     "output_type": "display_data"
    },
    {
     "data": {
      "application/vnd.jupyter.widget-view+json": {
       "model_id": "24a7ad252e2347c88629830ee2701f3a",
       "version_major": 2,
       "version_minor": 0
      },
      "text/plain": [
       "Validation: 0it [00:00, ?it/s]"
      ]
     },
     "metadata": {},
     "output_type": "display_data"
    },
    {
     "data": {
      "application/vnd.jupyter.widget-view+json": {
       "model_id": "703121889a9c4d06a3b2641eaf940067",
       "version_major": 2,
       "version_minor": 0
      },
      "text/plain": [
       "Validation: 0it [00:00, ?it/s]"
      ]
     },
     "metadata": {},
     "output_type": "display_data"
    },
    {
     "data": {
      "application/vnd.jupyter.widget-view+json": {
       "model_id": "ab9cad92a71f417a869563ac9c1f007a",
       "version_major": 2,
       "version_minor": 0
      },
      "text/plain": [
       "Validation: 0it [00:00, ?it/s]"
      ]
     },
     "metadata": {},
     "output_type": "display_data"
    },
    {
     "data": {
      "application/vnd.jupyter.widget-view+json": {
       "model_id": "c5f80accb924430e9536cf2f5daf4359",
       "version_major": 2,
       "version_minor": 0
      },
      "text/plain": [
       "Validation: 0it [00:00, ?it/s]"
      ]
     },
     "metadata": {},
     "output_type": "display_data"
    },
    {
     "data": {
      "application/vnd.jupyter.widget-view+json": {
       "model_id": "b5d3f3af8a3642b29361b427de7fefb3",
       "version_major": 2,
       "version_minor": 0
      },
      "text/plain": [
       "Validation: 0it [00:00, ?it/s]"
      ]
     },
     "metadata": {},
     "output_type": "display_data"
    },
    {
     "data": {
      "application/vnd.jupyter.widget-view+json": {
       "model_id": "a88cbd6b67694d60aaea95137de38203",
       "version_major": 2,
       "version_minor": 0
      },
      "text/plain": [
       "Validation: 0it [00:00, ?it/s]"
      ]
     },
     "metadata": {},
     "output_type": "display_data"
    },
    {
     "data": {
      "application/vnd.jupyter.widget-view+json": {
       "model_id": "e9b41e2f1033493b9e7899aa6d2777d4",
       "version_major": 2,
       "version_minor": 0
      },
      "text/plain": [
       "Validation: 0it [00:00, ?it/s]"
      ]
     },
     "metadata": {},
     "output_type": "display_data"
    },
    {
     "data": {
      "application/vnd.jupyter.widget-view+json": {
       "model_id": "005bbab4187945d2a8eeda9adea21daa",
       "version_major": 2,
       "version_minor": 0
      },
      "text/plain": [
       "Validation: 0it [00:00, ?it/s]"
      ]
     },
     "metadata": {},
     "output_type": "display_data"
    },
    {
     "data": {
      "application/vnd.jupyter.widget-view+json": {
       "model_id": "0de13140ce9242ca9ff4793be44d719a",
       "version_major": 2,
       "version_minor": 0
      },
      "text/plain": [
       "Validation: 0it [00:00, ?it/s]"
      ]
     },
     "metadata": {},
     "output_type": "display_data"
    },
    {
     "data": {
      "application/vnd.jupyter.widget-view+json": {
       "model_id": "9a18d9f0f6df40889aeca7d0b5f9324e",
       "version_major": 2,
       "version_minor": 0
      },
      "text/plain": [
       "Validation: 0it [00:00, ?it/s]"
      ]
     },
     "metadata": {},
     "output_type": "display_data"
    },
    {
     "data": {
      "application/vnd.jupyter.widget-view+json": {
       "model_id": "be644b45b54c4c89859868fef789d7ff",
       "version_major": 2,
       "version_minor": 0
      },
      "text/plain": [
       "Validation: 0it [00:00, ?it/s]"
      ]
     },
     "metadata": {},
     "output_type": "display_data"
    },
    {
     "data": {
      "application/vnd.jupyter.widget-view+json": {
       "model_id": "c9534720d90644a0a203f8b2922e5b91",
       "version_major": 2,
       "version_minor": 0
      },
      "text/plain": [
       "Validation: 0it [00:00, ?it/s]"
      ]
     },
     "metadata": {},
     "output_type": "display_data"
    },
    {
     "data": {
      "application/vnd.jupyter.widget-view+json": {
       "model_id": "858599a196b542e89dbe3975b2e6fe24",
       "version_major": 2,
       "version_minor": 0
      },
      "text/plain": [
       "Validation: 0it [00:00, ?it/s]"
      ]
     },
     "metadata": {},
     "output_type": "display_data"
    },
    {
     "data": {
      "application/vnd.jupyter.widget-view+json": {
       "model_id": "cad5211a440f4ce987903106d5d790ce",
       "version_major": 2,
       "version_minor": 0
      },
      "text/plain": [
       "Validation: 0it [00:00, ?it/s]"
      ]
     },
     "metadata": {},
     "output_type": "display_data"
    },
    {
     "data": {
      "application/vnd.jupyter.widget-view+json": {
       "model_id": "730851fe4be54f1a8a54c9f696985fdc",
       "version_major": 2,
       "version_minor": 0
      },
      "text/plain": [
       "Validation: 0it [00:00, ?it/s]"
      ]
     },
     "metadata": {},
     "output_type": "display_data"
    },
    {
     "data": {
      "application/vnd.jupyter.widget-view+json": {
       "model_id": "08fb1e90ef144751aa2d571628cac874",
       "version_major": 2,
       "version_minor": 0
      },
      "text/plain": [
       "Validation: 0it [00:00, ?it/s]"
      ]
     },
     "metadata": {},
     "output_type": "display_data"
    },
    {
     "data": {
      "application/vnd.jupyter.widget-view+json": {
       "model_id": "a7f3f8098f6b48dfaa17d45e30f8f7ab",
       "version_major": 2,
       "version_minor": 0
      },
      "text/plain": [
       "Validation: 0it [00:00, ?it/s]"
      ]
     },
     "metadata": {},
     "output_type": "display_data"
    },
    {
     "data": {
      "application/vnd.jupyter.widget-view+json": {
       "model_id": "84d2c03242ea49548d4d484a6e3a0cde",
       "version_major": 2,
       "version_minor": 0
      },
      "text/plain": [
       "Validation: 0it [00:00, ?it/s]"
      ]
     },
     "metadata": {},
     "output_type": "display_data"
    },
    {
     "data": {
      "application/vnd.jupyter.widget-view+json": {
       "model_id": "1ee9d932c8614c5583eecfc54fae2972",
       "version_major": 2,
       "version_minor": 0
      },
      "text/plain": [
       "Validation: 0it [00:00, ?it/s]"
      ]
     },
     "metadata": {},
     "output_type": "display_data"
    },
    {
     "data": {
      "application/vnd.jupyter.widget-view+json": {
       "model_id": "7331b57684cc4a208da6212e299977b3",
       "version_major": 2,
       "version_minor": 0
      },
      "text/plain": [
       "Validation: 0it [00:00, ?it/s]"
      ]
     },
     "metadata": {},
     "output_type": "display_data"
    },
    {
     "data": {
      "application/vnd.jupyter.widget-view+json": {
       "model_id": "c3f16ed15fab42fda63960bf9435aba9",
       "version_major": 2,
       "version_minor": 0
      },
      "text/plain": [
       "Validation: 0it [00:00, ?it/s]"
      ]
     },
     "metadata": {},
     "output_type": "display_data"
    },
    {
     "data": {
      "application/vnd.jupyter.widget-view+json": {
       "model_id": "038c71e2fa8a4726833137591db5aab7",
       "version_major": 2,
       "version_minor": 0
      },
      "text/plain": [
       "Validation: 0it [00:00, ?it/s]"
      ]
     },
     "metadata": {},
     "output_type": "display_data"
    },
    {
     "data": {
      "application/vnd.jupyter.widget-view+json": {
       "model_id": "436609620da1452ab402c1a9391bc5c0",
       "version_major": 2,
       "version_minor": 0
      },
      "text/plain": [
       "Validation: 0it [00:00, ?it/s]"
      ]
     },
     "metadata": {},
     "output_type": "display_data"
    },
    {
     "data": {
      "application/vnd.jupyter.widget-view+json": {
       "model_id": "bef09570e7ee4e3295ac722aad507bac",
       "version_major": 2,
       "version_minor": 0
      },
      "text/plain": [
       "Validation: 0it [00:00, ?it/s]"
      ]
     },
     "metadata": {},
     "output_type": "display_data"
    },
    {
     "data": {
      "application/vnd.jupyter.widget-view+json": {
       "model_id": "9e08467c2ee541368b57f059a457aa76",
       "version_major": 2,
       "version_minor": 0
      },
      "text/plain": [
       "Validation: 0it [00:00, ?it/s]"
      ]
     },
     "metadata": {},
     "output_type": "display_data"
    },
    {
     "data": {
      "application/vnd.jupyter.widget-view+json": {
       "model_id": "ce46f25a49aa4e92abfdc3058eb74fc0",
       "version_major": 2,
       "version_minor": 0
      },
      "text/plain": [
       "Validation: 0it [00:00, ?it/s]"
      ]
     },
     "metadata": {},
     "output_type": "display_data"
    },
    {
     "data": {
      "application/vnd.jupyter.widget-view+json": {
       "model_id": "8c004ff9a2494e84a2677f25b5300895",
       "version_major": 2,
       "version_minor": 0
      },
      "text/plain": [
       "Validation: 0it [00:00, ?it/s]"
      ]
     },
     "metadata": {},
     "output_type": "display_data"
    },
    {
     "data": {
      "application/vnd.jupyter.widget-view+json": {
       "model_id": "b2da87223a4c45f58c6ac56af6730cda",
       "version_major": 2,
       "version_minor": 0
      },
      "text/plain": [
       "Validation: 0it [00:00, ?it/s]"
      ]
     },
     "metadata": {},
     "output_type": "display_data"
    },
    {
     "data": {
      "application/vnd.jupyter.widget-view+json": {
       "model_id": "a241c69f6674423db5282117468e710c",
       "version_major": 2,
       "version_minor": 0
      },
      "text/plain": [
       "Validation: 0it [00:00, ?it/s]"
      ]
     },
     "metadata": {},
     "output_type": "display_data"
    },
    {
     "data": {
      "application/vnd.jupyter.widget-view+json": {
       "model_id": "2150e26c26794d59bdeb2da1fe0fd39e",
       "version_major": 2,
       "version_minor": 0
      },
      "text/plain": [
       "Validation: 0it [00:00, ?it/s]"
      ]
     },
     "metadata": {},
     "output_type": "display_data"
    },
    {
     "data": {
      "application/vnd.jupyter.widget-view+json": {
       "model_id": "5036de34224243f3971d39b68d907ccb",
       "version_major": 2,
       "version_minor": 0
      },
      "text/plain": [
       "Validation: 0it [00:00, ?it/s]"
      ]
     },
     "metadata": {},
     "output_type": "display_data"
    },
    {
     "data": {
      "application/vnd.jupyter.widget-view+json": {
       "model_id": "8114ea5aef7d40588ef52981017babd6",
       "version_major": 2,
       "version_minor": 0
      },
      "text/plain": [
       "Validation: 0it [00:00, ?it/s]"
      ]
     },
     "metadata": {},
     "output_type": "display_data"
    },
    {
     "data": {
      "application/vnd.jupyter.widget-view+json": {
       "model_id": "2fe506e0c12a453dad1fbce6f28b437d",
       "version_major": 2,
       "version_minor": 0
      },
      "text/plain": [
       "Validation: 0it [00:00, ?it/s]"
      ]
     },
     "metadata": {},
     "output_type": "display_data"
    },
    {
     "data": {
      "application/vnd.jupyter.widget-view+json": {
       "model_id": "67eda29fb6d4406fa815656b69e79dc3",
       "version_major": 2,
       "version_minor": 0
      },
      "text/plain": [
       "Validation: 0it [00:00, ?it/s]"
      ]
     },
     "metadata": {},
     "output_type": "display_data"
    },
    {
     "data": {
      "application/vnd.jupyter.widget-view+json": {
       "model_id": "9175dd2201e84a4fb71821c4a47128a1",
       "version_major": 2,
       "version_minor": 0
      },
      "text/plain": [
       "Validation: 0it [00:00, ?it/s]"
      ]
     },
     "metadata": {},
     "output_type": "display_data"
    },
    {
     "data": {
      "application/vnd.jupyter.widget-view+json": {
       "model_id": "caca4f776c484072a05bbd8e560764e7",
       "version_major": 2,
       "version_minor": 0
      },
      "text/plain": [
       "Validation: 0it [00:00, ?it/s]"
      ]
     },
     "metadata": {},
     "output_type": "display_data"
    },
    {
     "data": {
      "application/vnd.jupyter.widget-view+json": {
       "model_id": "fc11b5793f3b4580b53ba1000d41d5ae",
       "version_major": 2,
       "version_minor": 0
      },
      "text/plain": [
       "Validation: 0it [00:00, ?it/s]"
      ]
     },
     "metadata": {},
     "output_type": "display_data"
    },
    {
     "data": {
      "application/vnd.jupyter.widget-view+json": {
       "model_id": "5e781fc0d079491a820a9c62971a075f",
       "version_major": 2,
       "version_minor": 0
      },
      "text/plain": [
       "Validation: 0it [00:00, ?it/s]"
      ]
     },
     "metadata": {},
     "output_type": "display_data"
    },
    {
     "data": {
      "application/vnd.jupyter.widget-view+json": {
       "model_id": "3d35b9b93ecb42ee9a99a5cf8f5cd173",
       "version_major": 2,
       "version_minor": 0
      },
      "text/plain": [
       "Validation: 0it [00:00, ?it/s]"
      ]
     },
     "metadata": {},
     "output_type": "display_data"
    },
    {
     "data": {
      "application/vnd.jupyter.widget-view+json": {
       "model_id": "30cd65857106413eb995e457253c0794",
       "version_major": 2,
       "version_minor": 0
      },
      "text/plain": [
       "Validation: 0it [00:00, ?it/s]"
      ]
     },
     "metadata": {},
     "output_type": "display_data"
    },
    {
     "data": {
      "application/vnd.jupyter.widget-view+json": {
       "model_id": "d4c4422b777845b39ce7813514e921ae",
       "version_major": 2,
       "version_minor": 0
      },
      "text/plain": [
       "Validation: 0it [00:00, ?it/s]"
      ]
     },
     "metadata": {},
     "output_type": "display_data"
    },
    {
     "data": {
      "application/vnd.jupyter.widget-view+json": {
       "model_id": "763926a1c1a74500b6329481e548174c",
       "version_major": 2,
       "version_minor": 0
      },
      "text/plain": [
       "Validation: 0it [00:00, ?it/s]"
      ]
     },
     "metadata": {},
     "output_type": "display_data"
    },
    {
     "data": {
      "application/vnd.jupyter.widget-view+json": {
       "model_id": "96cea7eb9c58475cb5c59a283492fa2e",
       "version_major": 2,
       "version_minor": 0
      },
      "text/plain": [
       "Validation: 0it [00:00, ?it/s]"
      ]
     },
     "metadata": {},
     "output_type": "display_data"
    },
    {
     "data": {
      "application/vnd.jupyter.widget-view+json": {
       "model_id": "86ccbd6fd6ca442e8d3ef9ead336693f",
       "version_major": 2,
       "version_minor": 0
      },
      "text/plain": [
       "Validation: 0it [00:00, ?it/s]"
      ]
     },
     "metadata": {},
     "output_type": "display_data"
    },
    {
     "data": {
      "application/vnd.jupyter.widget-view+json": {
       "model_id": "9e38d9e918f446e0b7b074e9aadb07ba",
       "version_major": 2,
       "version_minor": 0
      },
      "text/plain": [
       "Validation: 0it [00:00, ?it/s]"
      ]
     },
     "metadata": {},
     "output_type": "display_data"
    },
    {
     "data": {
      "application/vnd.jupyter.widget-view+json": {
       "model_id": "cd1298dcea0548e7996823f9c7ae08e2",
       "version_major": 2,
       "version_minor": 0
      },
      "text/plain": [
       "Validation: 0it [00:00, ?it/s]"
      ]
     },
     "metadata": {},
     "output_type": "display_data"
    },
    {
     "data": {
      "application/vnd.jupyter.widget-view+json": {
       "model_id": "cc438b5f1d2b49cda4d2bed0f30ab7ff",
       "version_major": 2,
       "version_minor": 0
      },
      "text/plain": [
       "Validation: 0it [00:00, ?it/s]"
      ]
     },
     "metadata": {},
     "output_type": "display_data"
    },
    {
     "data": {
      "application/vnd.jupyter.widget-view+json": {
       "model_id": "d53b1d33fc154ca083dc34bf0e4eae2b",
       "version_major": 2,
       "version_minor": 0
      },
      "text/plain": [
       "Validation: 0it [00:00, ?it/s]"
      ]
     },
     "metadata": {},
     "output_type": "display_data"
    },
    {
     "data": {
      "application/vnd.jupyter.widget-view+json": {
       "model_id": "4b66b3ec4b1a4910b97299c79226058a",
       "version_major": 2,
       "version_minor": 0
      },
      "text/plain": [
       "Validation: 0it [00:00, ?it/s]"
      ]
     },
     "metadata": {},
     "output_type": "display_data"
    },
    {
     "data": {
      "application/vnd.jupyter.widget-view+json": {
       "model_id": "c98b73cf0d3444709fc83d125fa77a5f",
       "version_major": 2,
       "version_minor": 0
      },
      "text/plain": [
       "Validation: 0it [00:00, ?it/s]"
      ]
     },
     "metadata": {},
     "output_type": "display_data"
    },
    {
     "data": {
      "application/vnd.jupyter.widget-view+json": {
       "model_id": "9258e899585643f99537ca371067a3b5",
       "version_major": 2,
       "version_minor": 0
      },
      "text/plain": [
       "Validation: 0it [00:00, ?it/s]"
      ]
     },
     "metadata": {},
     "output_type": "display_data"
    },
    {
     "data": {
      "application/vnd.jupyter.widget-view+json": {
       "model_id": "6130863035fb40a78aedffe4b93ba3cb",
       "version_major": 2,
       "version_minor": 0
      },
      "text/plain": [
       "Validation: 0it [00:00, ?it/s]"
      ]
     },
     "metadata": {},
     "output_type": "display_data"
    },
    {
     "data": {
      "application/vnd.jupyter.widget-view+json": {
       "model_id": "4c2b890868684c45aaa357dd199a3825",
       "version_major": 2,
       "version_minor": 0
      },
      "text/plain": [
       "Validation: 0it [00:00, ?it/s]"
      ]
     },
     "metadata": {},
     "output_type": "display_data"
    },
    {
     "data": {
      "application/vnd.jupyter.widget-view+json": {
       "model_id": "fea4501b7e3c4559a5e9efa5d02822d3",
       "version_major": 2,
       "version_minor": 0
      },
      "text/plain": [
       "Validation: 0it [00:00, ?it/s]"
      ]
     },
     "metadata": {},
     "output_type": "display_data"
    },
    {
     "data": {
      "application/vnd.jupyter.widget-view+json": {
       "model_id": "cac2147b2ffa4493a24fa07a66057c83",
       "version_major": 2,
       "version_minor": 0
      },
      "text/plain": [
       "Validation: 0it [00:00, ?it/s]"
      ]
     },
     "metadata": {},
     "output_type": "display_data"
    },
    {
     "data": {
      "application/vnd.jupyter.widget-view+json": {
       "model_id": "0e1f64d719a54de9b5e257793f6b4f38",
       "version_major": 2,
       "version_minor": 0
      },
      "text/plain": [
       "Validation: 0it [00:00, ?it/s]"
      ]
     },
     "metadata": {},
     "output_type": "display_data"
    },
    {
     "data": {
      "application/vnd.jupyter.widget-view+json": {
       "model_id": "5bb99edd0ab24abcac794315ee2a6744",
       "version_major": 2,
       "version_minor": 0
      },
      "text/plain": [
       "Validation: 0it [00:00, ?it/s]"
      ]
     },
     "metadata": {},
     "output_type": "display_data"
    },
    {
     "data": {
      "application/vnd.jupyter.widget-view+json": {
       "model_id": "39d8ef5890cb482d9371c4f9713d207e",
       "version_major": 2,
       "version_minor": 0
      },
      "text/plain": [
       "Validation: 0it [00:00, ?it/s]"
      ]
     },
     "metadata": {},
     "output_type": "display_data"
    },
    {
     "data": {
      "application/vnd.jupyter.widget-view+json": {
       "model_id": "6edeeabeb082427a8208252fd41d5920",
       "version_major": 2,
       "version_minor": 0
      },
      "text/plain": [
       "Validation: 0it [00:00, ?it/s]"
      ]
     },
     "metadata": {},
     "output_type": "display_data"
    },
    {
     "data": {
      "application/vnd.jupyter.widget-view+json": {
       "model_id": "f4ecbb296f46416d8cc16f66d1bcaf08",
       "version_major": 2,
       "version_minor": 0
      },
      "text/plain": [
       "Validation: 0it [00:00, ?it/s]"
      ]
     },
     "metadata": {},
     "output_type": "display_data"
    },
    {
     "data": {
      "application/vnd.jupyter.widget-view+json": {
       "model_id": "0d20f52df0b24ffdbd3b986468149783",
       "version_major": 2,
       "version_minor": 0
      },
      "text/plain": [
       "Validation: 0it [00:00, ?it/s]"
      ]
     },
     "metadata": {},
     "output_type": "display_data"
    },
    {
     "data": {
      "application/vnd.jupyter.widget-view+json": {
       "model_id": "f07673b31dd448d884878076807d693b",
       "version_major": 2,
       "version_minor": 0
      },
      "text/plain": [
       "Validation: 0it [00:00, ?it/s]"
      ]
     },
     "metadata": {},
     "output_type": "display_data"
    },
    {
     "data": {
      "application/vnd.jupyter.widget-view+json": {
       "model_id": "3cc86abc362f41d7b1d1a4794b8eb7b7",
       "version_major": 2,
       "version_minor": 0
      },
      "text/plain": [
       "Validation: 0it [00:00, ?it/s]"
      ]
     },
     "metadata": {},
     "output_type": "display_data"
    },
    {
     "data": {
      "application/vnd.jupyter.widget-view+json": {
       "model_id": "914a2c9118f14ed4a5c6a413cdd535aa",
       "version_major": 2,
       "version_minor": 0
      },
      "text/plain": [
       "Validation: 0it [00:00, ?it/s]"
      ]
     },
     "metadata": {},
     "output_type": "display_data"
    },
    {
     "data": {
      "application/vnd.jupyter.widget-view+json": {
       "model_id": "a0b623e8aeec49aaa20fb9e9474f8bc8",
       "version_major": 2,
       "version_minor": 0
      },
      "text/plain": [
       "Validation: 0it [00:00, ?it/s]"
      ]
     },
     "metadata": {},
     "output_type": "display_data"
    },
    {
     "data": {
      "application/vnd.jupyter.widget-view+json": {
       "model_id": "8789e22e3a264012be9c1f621e492da1",
       "version_major": 2,
       "version_minor": 0
      },
      "text/plain": [
       "Validation: 0it [00:00, ?it/s]"
      ]
     },
     "metadata": {},
     "output_type": "display_data"
    },
    {
     "data": {
      "application/vnd.jupyter.widget-view+json": {
       "model_id": "6803bb79c5df4360ac04cbb61d0028fb",
       "version_major": 2,
       "version_minor": 0
      },
      "text/plain": [
       "Validation: 0it [00:00, ?it/s]"
      ]
     },
     "metadata": {},
     "output_type": "display_data"
    },
    {
     "data": {
      "application/vnd.jupyter.widget-view+json": {
       "model_id": "44fa3b19468c4899ab758f0843fdb534",
       "version_major": 2,
       "version_minor": 0
      },
      "text/plain": [
       "Validation: 0it [00:00, ?it/s]"
      ]
     },
     "metadata": {},
     "output_type": "display_data"
    },
    {
     "data": {
      "application/vnd.jupyter.widget-view+json": {
       "model_id": "bdf802ffd02e4271808b6852358d596b",
       "version_major": 2,
       "version_minor": 0
      },
      "text/plain": [
       "Validation: 0it [00:00, ?it/s]"
      ]
     },
     "metadata": {},
     "output_type": "display_data"
    },
    {
     "data": {
      "application/vnd.jupyter.widget-view+json": {
       "model_id": "ab5c8a765ef543a5b6577106591e1251",
       "version_major": 2,
       "version_minor": 0
      },
      "text/plain": [
       "Validation: 0it [00:00, ?it/s]"
      ]
     },
     "metadata": {},
     "output_type": "display_data"
    },
    {
     "data": {
      "application/vnd.jupyter.widget-view+json": {
       "model_id": "2c10b36c6b9447c199982c416a0dc833",
       "version_major": 2,
       "version_minor": 0
      },
      "text/plain": [
       "Validation: 0it [00:00, ?it/s]"
      ]
     },
     "metadata": {},
     "output_type": "display_data"
    },
    {
     "data": {
      "application/vnd.jupyter.widget-view+json": {
       "model_id": "cbc10e50a81147d5a1388591c4516c74",
       "version_major": 2,
       "version_minor": 0
      },
      "text/plain": [
       "Validation: 0it [00:00, ?it/s]"
      ]
     },
     "metadata": {},
     "output_type": "display_data"
    },
    {
     "data": {
      "application/vnd.jupyter.widget-view+json": {
       "model_id": "160a0ca4f76d49c9b323ab959cae3476",
       "version_major": 2,
       "version_minor": 0
      },
      "text/plain": [
       "Validation: 0it [00:00, ?it/s]"
      ]
     },
     "metadata": {},
     "output_type": "display_data"
    },
    {
     "name": "stderr",
     "output_type": "stream",
     "text": [
      "`Trainer.fit` stopped: `max_epochs=80` reached.\n"
     ]
    }
   ],
   "source": [
    "callbacks = [\n",
    "    ModelCheckpoint(\n",
    "        dirpath=\"/silor/boergel/paper/runoff_prediction/data/modelWeights/\",\n",
    "        filename=f\"TestPredictionCallBackTopOne\",\n",
    "        save_top_k=1,\n",
    "        mode=\"min\",\n",
    "        monitor=\"val_mse\",\n",
    "        save_last=True,\n",
    "        ),\n",
    "    PredictionPlottingCallback()\n",
    "    ]\n",
    "\n",
    "logger = TensorBoardLogger(\n",
    "    save_dir=\"/silor/boergel/paper/runoff_prediction/logs\",\n",
    "    name=f\"TestPredictionCallBack\"\n",
    "    )   \n",
    "\n",
    "trainer = L.Trainer(\n",
    "    precision=\"bf16-mixed\",\n",
    "    callbacks=callbacks,\n",
    "    max_epochs=num_epochs,\n",
    "    accelerator=\"cuda\",\n",
    "    devices=2,\n",
    "    logger=logger\n",
    "    )\n",
    "\n",
    "trainer.fit(model=LightningBaltNet, datamodule=dataLoader)\n"
   ]
  }
 ],
 "metadata": {
  "kernelspec": {
   "display_name": "Python 3",
   "language": "python",
   "name": "python3"
  },
  "language_info": {
   "codemirror_mode": {
    "name": "ipython",
    "version": 3
   },
   "file_extension": ".py",
   "mimetype": "text/x-python",
   "name": "python",
   "nbconvert_exporter": "python",
   "pygments_lexer": "ipython3",
   "version": "3.11.5"
  }
 },
 "nbformat": 4,
 "nbformat_minor": 2
}
